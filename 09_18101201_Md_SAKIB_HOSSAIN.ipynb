{
  "cells": [
    {
      "cell_type": "code",
      "execution_count": null,
      "metadata": {
        "id": "6G_DWkREBFxw"
      },
      "outputs": [],
      "source": [
        "import numpy as np\n",
        "import pandas as pd\n",
        "pd.options.mode.chained_assignment = None \n",
        "from sklearn.impute import SimpleImputer\n",
        "\n"
      ]
    },
    {
      "cell_type": "code",
      "execution_count": null,
      "metadata": {
        "id": "cYpx1d0KZjEH"
      },
      "outputs": [],
      "source": [
        "data = pd.read_csv(\"/content/Income Dataset (50k) (1).csv\")\n",
        "data"
      ]
    },
    {
      "cell_type": "code",
      "execution_count": null,
      "metadata": {
        "id": "Dh839Hlca_vw"
      },
      "outputs": [],
      "source": [
        "data.shape"
      ]
    },
    {
      "cell_type": "code",
      "execution_count": null,
      "metadata": {
        "id": "38XCITD1aYB8"
      },
      "outputs": [],
      "source": [
        "data.isnull().sum()"
      ]
    },
    {
      "cell_type": "code",
      "execution_count": null,
      "metadata": {
        "id": "GE0MSiXthQ4u"
      },
      "outputs": [],
      "source": [
        "impute = SimpleImputer(missing_values=np.nan, strategy='mean')\n",
        "\n",
        "impute.fit(data[['fnlwgt']])\n",
        "impute.fit(data[['educational-num']])\n",
        "\n",
        "data['fnlwgt'] = impute.transform(data[['fnlwgt']])\n",
        "data['educational-num'] = impute.transform(data[['educational-num']])\n",
        "data"
      ]
    },
    {
      "cell_type": "code",
      "execution_count": null,
      "metadata": {
        "id": "_3hHWTgrtxCz"
      },
      "outputs": [],
      "source": [
        "data.drop(['race' , \"native-country\"], axis=1, inplace = True)"
      ]
    },
    {
      "cell_type": "code",
      "execution_count": null,
      "metadata": {
        "id": "HLYzwCMEyFE6"
      },
      "outputs": [],
      "source": [
        "from sklearn.preprocessing import LabelEncoder\n",
        "enc = LabelEncoder()\n",
        "data[\"gender\"] = enc.fit_transform(data[\"gender\"])\n",
        "data[[\"gender\"]].head()\n",
        "data[\"workclass\"] = enc.fit_transform(data[\"workclass\"])\n",
        "data[[\"workclass\"]].head()\n",
        "data[\"relationship\"] = enc.fit_transform(data[\"relationship\"])\n",
        "data[[\"relationship\"]].head()\n",
        "data[\"occupation\"] = enc.fit_transform(data[\"occupation\"])\n",
        "data[[\"occupation\"]].head()\n",
        "data[\"marital-status\"] = enc.fit_transform(data[\"marital-status\"])\n",
        "data[[\"marital-status\"]].head()\n",
        "data[\"education\"] = enc.fit_transform(data[\"education\"])\n",
        "data[[\"education\"]].head()\n",
        "data\n",
        "\n",
        "#data[\"gender\"] = data[\"gender\"].map({\"Male\":1 , \"Female\":0})\n",
        "#data"
      ]
    },
    {
      "cell_type": "code",
      "execution_count": null,
      "metadata": {
        "id": "Ik1N6TYNBUbJ"
      },
      "outputs": [],
      "source": [
        "from sklearn.model_selection import train_test_split\n",
        "x = data[[\"age\" , \"fnlwgt\" , \"educational-num\" , \"hours-per-week\" , \"capital-gain\" , \"capital-loss\"]]\n",
        "y = data[[\"income_>50K\"]]\n",
        "\n",
        "X_train, X_test, y_train, y_test = train_test_split(x , y , test_size = 0.2, random_state = 40)"
      ]
    },
    {
      "cell_type": "code",
      "execution_count": null,
      "metadata": {
        "id": "E7ruwW52NN1h"
      },
      "outputs": [],
      "source": [
        "from sklearn.preprocessing import MinMaxScaler\n",
        "scaler = MinMaxScaler()\n",
        "scaler.fit(X_train)\n",
        "X_train_scaled = scaler.transform(X_train)\n",
        "print(\"per-feature minimum before scaling:\\n {}\".format(X_train.min(axis=0)))\n",
        "print(\"per-feature maximum before scaling:\\n {}\".format(X_train.max(axis=0)))\n",
        "print(\"per-feature minimum after scaling:\\n {}\".format(\n",
        "    X_train_scaled.min(axis=0)))\n",
        "print(\"per-feature maximum after scaling:\\n {}\".format(\n",
        "    X_train_scaled.max(axis=0)))\n",
        "X_test_scaled = scaler.transform(X_test)"
      ]
    },
    {
      "cell_type": "code",
      "source": [
        "from sklearn.svm import SVC\n",
        "svc = SVC(kernel=\"linear\")\n",
        "svc.fit(X_train, y_train)\n",
        "pre = svc.score(X_train, y_train)\n",
        "prea = svc.score(X_test, y_test)\n",
        "predictions = svc.predict(X_test)\n",
        "print(predictions)"
      ],
      "metadata": {
        "colab": {
          "base_uri": "https://localhost:8080/"
        },
        "id": "u-MUTWyQGHgJ",
        "outputId": "2bf44acc-6947-4afd-cc44-73c278eb1db9"
      },
      "execution_count": null,
      "outputs": [
        {
          "output_type": "stream",
          "name": "stderr",
          "text": [
            "/usr/local/lib/python3.7/dist-packages/sklearn/utils/validation.py:985: DataConversionWarning: A column-vector y was passed when a 1d array was expected. Please change the shape of y to (n_samples, ), for example using ravel().\n",
            "  y = column_or_1d(y, warn=True)\n"
          ]
        }
      ]
    },
    {
      "cell_type": "code",
      "execution_count": null,
      "metadata": {
        "id": "bf6fb3IDxbfi"
      },
      "outputs": [],
      "source": [
        "from sklearn.ensemble import RandomForestClassifier\n",
        "rfc = RandomForestClassifier(n_estimators=50)\n",
        "rfc.fit(X_train, y_train)\n",
        "pre1 = rfc.score(X_train, y_train)\n",
        "pre1a = rfc.score(X_test, y_test)\n",
        "print(\"pre1\" , pre1 )\n",
        "print(\"pre1a\" , pre1a)\n",
        "predictions1 = rfc.predict(X_test)"
      ]
    },
    {
      "cell_type": "code",
      "execution_count": null,
      "metadata": {
        "id": "aueg4Jwixs9r"
      },
      "outputs": [],
      "source": [
        "from sklearn.neural_network import MLPClassifier\n",
        "nnc=MLPClassifier(hidden_layer_sizes=(7), activation=\"relu\", max_iter=10000)\n",
        "nnc.fit(X_train, y_train)\n",
        "pre2 = nnc.score(X_train, y_train)\n",
        "pre2a = nnc.score(X_test, y_test)\n",
        "print(\"pre2\" , pre2 )\n",
        "print(\"pre2a\" , pre2a)\n",
        "predictions2 = nnc.predict(X_test)\n",
        "print(predictions2)"
      ]
    },
    {
      "cell_type": "code",
      "execution_count": null,
      "metadata": {
        "id": "xL0aV3At0AYA"
      },
      "outputs": [],
      "source": [
        "from sklearn.decomposition import PCA \n",
        "pca = PCA(n_components=7)\n",
        "principal_components= pca.fit_transform(data)\n",
        "print(principal_components)\n",
        "pca.explained_variance_ratio_\n",
        "sum(pca.explained_variance_ratio_)"
      ]
    },
    {
      "cell_type": "code",
      "source": [
        "data_new = pd.DataFrame(data=principal_components)\n",
        "maindata_df=pd.concat([data_new, data[[\"income_>50K\"]]], axis=1)\n",
        "data_new\n",
        "maindata_df"
      ],
      "metadata": {
        "id": "WvUAzmjQzCAM"
      },
      "execution_count": null,
      "outputs": []
    },
    {
      "cell_type": "markdown",
      "source": [
        "After PCA"
      ],
      "metadata": {
        "id": "i5ixo3wk1Pd9"
      }
    },
    {
      "cell_type": "code",
      "source": [
        "from sklearn.model_selection import train_test_split\n",
        "X_train1, X_test1, y_train1, y_test1 = train_test_split(data_new, data[\"income_>50K\"] , test_size = 0.2, random_state = 40)"
      ],
      "metadata": {
        "id": "6gX-L3xf0gDK"
      },
      "execution_count": null,
      "outputs": []
    },
    {
      "cell_type": "code",
      "source": [
        "from sklearn.svm import SVC\n",
        "svc = SVC(kernel=\"linear\")\n",
        "svc.fit(X_train, y_train)\n",
        "prepac = svc.score(X_train, y_train)\n",
        "prepaca = svc.score(X_test, y_test)\n",
        "predictions = svc.predict(X_test)\n",
        "print(predictions)"
      ],
      "metadata": {
        "id": "X0beUIDECrqT"
      },
      "execution_count": null,
      "outputs": []
    },
    {
      "cell_type": "code",
      "source": [
        "from sklearn.ensemble import RandomForestClassifier\n",
        "rfc = RandomForestClassifier(n_estimators=50)\n",
        "rfc.fit(X_train1, y_train1)\n",
        "prePca1 = rfc.score(X_train1, y_train1)\n",
        "prePca1a = rfc.score(X_test1, y_test1)\n",
        "print(prePca1)\n",
        "print(prePca1a)\n",
        "predictions = rfc.predict(X_test1)"
      ],
      "metadata": {
        "id": "ZA0_bdQ61LqX"
      },
      "execution_count": null,
      "outputs": []
    },
    {
      "cell_type": "code",
      "source": [
        "from sklearn.neural_network import MLPClassifier\n",
        "nnc=MLPClassifier(hidden_layer_sizes=(7), activation=\"relu\", max_iter=10000)\n",
        "nnc.fit(X_train1, y_train1)\n",
        "prePca2 = nnc.score(X_train1, y_train1)\n",
        "prePca2a = nnc.score(X_test1, y_test1)\n",
        "print(prePca2)\n",
        "print(prePca2a)\n",
        "predictions = nnc.predict(X_test1)\n",
        "print(predictions)"
      ],
      "metadata": {
        "id": "z6kf1x0y1OVO"
      },
      "execution_count": null,
      "outputs": []
    },
    {
      "cell_type": "code",
      "source": [
        "import seaborn as sns\n",
        "import matplotlib.pyplot as plt\n",
        "X_axis = [\"SVC\" , \"SVC(PAC)\" ,\"Neural Net\", \"Neural Net(PAC)\",\"RFC\",\"RFC(PAC)\"]\n",
        "y_axis = [pre*100,prepaca*100,pre2*100,prePca2*100,pre1*100,prePca1*100]\n",
        "frame= pd.DataFrame({'Classifier':X_axis,'Accuracy': y_axis})\n",
        "sns.set_theme(style=\"whitegrid\")\n",
        "plt.figure(figsize=(20,10))\n",
        "plt.title(\"Comparison of test cases With and Without PAC\")\n",
        "\n",
        "ax = sns.barplot(x=\"Classifier\", y=\"Accuracy\", data=frame, palette=\"plasma\")"
      ],
      "metadata": {
        "id": "P3QjN3wO5dmb"
      },
      "execution_count": null,
      "outputs": []
    }
  ],
  "metadata": {
    "colab": {
      "name": "09_18101201_Md.SAKIB HOSSAIN",
      "provenance": []
    },
    "kernelspec": {
      "display_name": "Python 3",
      "name": "python3"
    },
    "language_info": {
      "name": "python"
    }
  },
  "nbformat": 4,
  "nbformat_minor": 0
}